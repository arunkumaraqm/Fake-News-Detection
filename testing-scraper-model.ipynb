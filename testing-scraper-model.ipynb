{
 "metadata": {
  "language_info": {
   "codemirror_mode": {
    "name": "ipython",
    "version": 3
   },
   "file_extension": ".py",
   "mimetype": "text/x-python",
   "name": "python",
   "nbconvert_exporter": "python",
   "pygments_lexer": "ipython3",
   "version": "3.8.5"
  },
  "orig_nbformat": 2,
  "kernelspec": {
   "name": "python3",
   "display_name": "Python 3",
   "language": "python"
  }
 },
 "nbformat": 4,
 "nbformat_minor": 2,
 "cells": [
  {
   "cell_type": "code",
   "execution_count": 2,
   "metadata": {},
   "outputs": [],
   "source": [
    "import scraper\n",
    "fake_articles = []"
   ]
  },
  {
   "cell_type": "code",
   "execution_count": 5,
   "metadata": {},
   "outputs": [],
   "source": [
    "true_articles = []"
   ]
  },
  {
   "cell_type": "code",
   "execution_count": 38,
   "metadata": {},
   "outputs": [
    {
     "output_type": "stream",
     "name": "stdout",
     "text": [
      "Building WOMAN INFECTED WITH COVID-19 GIVES BIRTH TO TWINS AND NAMES THEM CORONA AND VIRUS\n",
      "Building BREAKING\n",
      "Building Dad Arrested For Locking Son In Trunk After Seeing His “Arch That Back Challenge” Video On IG\n",
      "Building Space security chief says extraterrestrials exist, and Trump knows about it\n"
     ]
    }
   ],
   "source": [
    "# all_links = [\n",
    "#     \"https://viralcocaine.com/dad-arrested-for-locking-son-in-trunk-after-seeing-his-arch-that-back-challenge-video-on-ig/\",\n",
    "#     \"https://beforeitsnews.com/spirit/2021/04/god-covid-19-vaccinations-mean-death-given-march-3rd-2020-2519265.html\",\n",
    "#     \"https://beforeitsnews.com/opinion-conservative/2021/04/legal-plunder-biden-to-call-for-4-trillion-in-new-spending-during-first-joint-address-to-congress-3577246.html\",\n",
    "#     \"\"\n",
    "# ]\n",
    "\n",
    "all_fake_links = [\n",
    "    'https://viralcocaine.com/woman-infected-with-covid-19-gives-birth-to-twins-and-names-them-corona-and-virus/',\n",
    "    'https://bostontribune.org/breaking/',\n",
    "    'https://viralcocaine.com/dad-arrested-for-locking-son-in-trunk-after-seeing-his-arch-that-back-challenge-video-on-ig/',\n",
    "    'https://viralcocaine.com/space-security-chief-says-extraterrestrials-exist-and-trump-knows-about-it/',\n",
    "\n",
    "]\n",
    "fake_articles += [scraper.scrape(link) for link in all_fake_links]"
   ]
  },
  {
   "cell_type": "code",
   "execution_count": 37,
   "metadata": {},
   "outputs": [
    {
     "output_type": "stream",
     "name": "stdout",
     "text": [
      "Building D.C. officer who suffered heart attack on Jan. 6 calls out Trump for downplaying ‘brutal, savage’ riot\n",
      "Building US coronavirus: Some young Americans are hesitant about getting a Covid-19 shot. Here's why that's an issue for all Americans\n",
      "Building Is Matthew McConaughey running for governor of Texas? Maybe. What we know about his interest in politics\n",
      "Building Probe: Cyprus ‘unlawfully’ gave passports in investment deal\n",
      "Building The US is vaccinating Americans at a record pace. But here's why Covid-19 cases and hospitalizations are up\n"
     ]
    }
   ],
   "source": [
    "\n",
    "all_legit_links = [\n",
    "    'https://www.msn.com/en-us/news/us/dc-officer-who-suffered-heart-attack-on-jan-6-calls-out-trump-for-downplaying-e2-80-98brutal-savage-e2-80-99-riot/ar-BB1g84LI',\n",
    "    'https://www.msn.com/en-us/news/us/us-coronavirus-some-young-americans-are-hesitant-about-getting-a-covid-19-shot-heres-why-thats-an-issue-for-all-americans/ar-BB1gaLAs',\n",
    "    'https://www.azcentral.com/story/entertainment/celebrities/2021/04/28/matthew-mcconaughey-governor-political-interests-and-more-we-know/7323029002/',\n",
    "    'https://www.keloland.com/news/national-world-news/probe-cyprus-unlawfully-gave-passports-in-investment-deal/',\n",
    "    'https://edition.cnn.com/2021/04/20/health/us-coronavirus-tuesday/index.html',\n",
    "\n",
    "]\n",
    "true_articles += [scraper.scrape(link) for link in all_legit_links]"
   ]
  },
  {
   "cell_type": "code",
   "execution_count": 27,
   "metadata": {},
   "outputs": [],
   "source": [
    "def indiv_predict(model, article_dict):\n",
    "    return model.predict([article_dict['text']])"
   ]
  },
  {
   "cell_type": "code",
   "execution_count": 10,
   "metadata": {},
   "outputs": [],
   "source": [
    "import joblib\n",
    "import os"
   ]
  },
  {
   "cell_type": "code",
   "execution_count": 43,
   "metadata": {},
   "outputs": [],
   "source": [
    "\n",
    "model_path = os.path.join('joblib', '2021-04-29 14:23:41.895513 tfidf 1000 default svm.joblib')"
   ]
  },
  {
   "cell_type": "code",
   "execution_count": 44,
   "metadata": {},
   "outputs": [
    {
     "output_type": "execute_result",
     "data": {
      "text/plain": [
       "Pipeline(steps=[('tfidfvectorizer',\n",
       "                 TfidfVectorizer(max_features=1000,\n",
       "                                 stop_words={'a', 'about', 'above', 'after',\n",
       "                                             'again', 'against', 'ain', 'all',\n",
       "                                             'am', 'an', 'and', 'any', 'are',\n",
       "                                             'aren', \"aren't\", 'arent', 'as',\n",
       "                                             'at', 'be', 'because', 'been',\n",
       "                                             'before', 'being', 'below',\n",
       "                                             'between', 'both', 'but', 'by',\n",
       "                                             'can', 'couldn', ...})),\n",
       "                ('svc', SVC())])"
      ]
     },
     "metadata": {},
     "execution_count": 44
    }
   ],
   "source": [
    "model = joblib.load(model_path)\n",
    "model"
   ]
  },
  {
   "cell_type": "code",
   "execution_count": 45,
   "metadata": {},
   "outputs": [
    {
     "output_type": "stream",
     "name": "stdout",
     "text": [
      "[array([1]), array([1]), array([1]), array([1]), array([1]), array([1]), array([1]), array([1])]\n[array([-1]), array([1]), array([-1]), array([-1]), array([-1]), array([1]), array([-1]), array([-1])]\n"
     ]
    }
   ],
   "source": [
    "print([indiv_predict(model, art) for art in true_articles if art]) \n",
    "print([indiv_predict(model, art) for art in fake_articles if art]) # 1 false negative"
   ]
  },
  {
   "cell_type": "code",
   "execution_count": 30,
   "metadata": {},
   "outputs": [
    {
     "output_type": "execute_result",
     "data": {
      "text/plain": [
       "{}"
      ]
     },
     "metadata": {},
     "execution_count": 30
    }
   ],
   "source": [
    "true_articles[3]"
   ]
  },
  {
   "cell_type": "code",
   "execution_count": null,
   "metadata": {},
   "outputs": [],
   "source": []
  }
 ]
}